{
 "cells": [
  {
   "cell_type": "code",
   "id": "initial_id",
   "metadata": {
    "collapsed": true,
    "ExecuteTime": {
     "end_time": "2025-01-13T07:29:20.436358Z",
     "start_time": "2025-01-13T07:29:19.583780Z"
    }
   },
   "source": "import pandas as pd",
   "outputs": [],
   "execution_count": 1
  },
  {
   "metadata": {
    "ExecuteTime": {
     "end_time": "2025-01-14T08:00:51.223248Z",
     "start_time": "2025-01-14T08:00:48.774759Z"
    }
   },
   "cell_type": "code",
   "source": [
    "import smtplib\n",
    "\n",
    "# הגדרת שרת SMTP\n",
    "server = smtplib.SMTP('smtp.gmail.com', 587)\n",
    "server.ehlo()\n",
    "server.starttls()\n",
    "\n",
    "# פרטי המייל שלך\n",
    "fromaddr = 'yosefmaatuf848@gmail.com'  # כתובת המייל שלך\n",
    "toaddrs = 'yosefmaatuf848@gmail.com'  # כתובת המייל של הנמען\n",
    "username = 'yosefmaatuf848@gmail.com'  # שם המשתמש שלך (כתובת המייל המלאה)\n",
    "password = 'scqm mkpx tktz yswv'\n",
    "# הסיסמה לחשבון Gmail שלך\n",
    "\n",
    "# יצירת ההודעה\n",
    "msg = \"\\r\\n\".join([\n",
    "    \"From: {}\".format(fromaddr),\n",
    "    \"To: {}\".format(toaddrs),\n",
    "    \"Subject: Just a message\",\n",
    "    \"\",\n",
    "    \"Why, oh why\"\n",
    "])\n",
    "\n",
    "# ביצוע התחברות ושליחת מייל\n",
    "try:\n",
    "    server.login(username, password)  # התחברות לחשבון\n",
    "    server.sendmail(fromaddr, toaddrs, msg)  # שליחת המייל\n",
    "    print(\"Email sent successfully!\")\n",
    "except Exception as e:\n",
    "    print(f\"Failed to send email: {e}\")\n",
    "finally:\n",
    "    server.quit()  # סגירת החיבור לשרת\n"
   ],
   "id": "a57867be3c1b529e",
   "outputs": [
    {
     "name": "stdout",
     "output_type": "stream",
     "text": [
      "Email sent successfully!\n"
     ]
    }
   ],
   "execution_count": 18
  },
  {
   "metadata": {
    "ExecuteTime": {
     "end_time": "2025-01-14T08:00:41.830621Z",
     "start_time": "2025-01-14T08:00:40.949163Z"
    }
   },
   "cell_type": "code",
   "source": [
    "import yagmail\n",
    "\n",
    "# יצירת אובייקט yagmail\n",
    "yag = yagmail.SMTP('huxpngyup@gmail.com')\n",
    "\n",
    "# שליחת המייל\n",
    "to = 'yosefmaatuf848@gmail.com'  # כתובת הנמען\n",
    "subject = 'Just a message'  # נושא המייל\n",
    "body = 'Why, oh why'  # תוכן המייל\n",
    "\n",
    "yag.send(to=to, subject=subject, contents=body)\n",
    "print(\"Email sent successfully!\")\n"
   ],
   "id": "40850a993db767bf",
   "outputs": [
    {
     "ename": "SMTPAuthenticationError",
     "evalue": "(535, b'5.7.8 Username and Password not accepted. For more information, go to\\n5.7.8  https://support.google.com/mail/?p=BadCredentials ffacd0b85a97d-38a8e4b80b2sm13930564f8f.80 - gsmtp')",
     "output_type": "error",
     "traceback": [
      "\u001B[0;31m---------------------------------------------------------------------------\u001B[0m",
      "\u001B[0;31mSMTPAuthenticationError\u001B[0m                   Traceback (most recent call last)",
      "Cell \u001B[0;32mIn[17], line 11\u001B[0m\n\u001B[1;32m      8\u001B[0m subject \u001B[38;5;241m=\u001B[39m \u001B[38;5;124m'\u001B[39m\u001B[38;5;124mJust a message\u001B[39m\u001B[38;5;124m'\u001B[39m  \u001B[38;5;66;03m# נושא המייל\u001B[39;00m\n\u001B[1;32m      9\u001B[0m body \u001B[38;5;241m=\u001B[39m \u001B[38;5;124m'\u001B[39m\u001B[38;5;124mWhy, oh why\u001B[39m\u001B[38;5;124m'\u001B[39m  \u001B[38;5;66;03m# תוכן המייל\u001B[39;00m\n\u001B[0;32m---> 11\u001B[0m \u001B[43myag\u001B[49m\u001B[38;5;241;43m.\u001B[39;49m\u001B[43msend\u001B[49m\u001B[43m(\u001B[49m\u001B[43mto\u001B[49m\u001B[38;5;241;43m=\u001B[39;49m\u001B[43mto\u001B[49m\u001B[43m,\u001B[49m\u001B[43m \u001B[49m\u001B[43msubject\u001B[49m\u001B[38;5;241;43m=\u001B[39;49m\u001B[43msubject\u001B[49m\u001B[43m,\u001B[49m\u001B[43m \u001B[49m\u001B[43mcontents\u001B[49m\u001B[38;5;241;43m=\u001B[39;49m\u001B[43mbody\u001B[49m\u001B[43m)\u001B[49m\n\u001B[1;32m     12\u001B[0m \u001B[38;5;28mprint\u001B[39m(\u001B[38;5;124m\"\u001B[39m\u001B[38;5;124mEmail sent successfully!\u001B[39m\u001B[38;5;124m\"\u001B[39m)\n",
      "File \u001B[0;32m~/.local/lib/python3.10/site-packages/yagmail/sender.py:156\u001B[0m, in \u001B[0;36mSMTP.send\u001B[0;34m(self, to, subject, contents, attachments, cc, bcc, preview_only, headers, prettify_html, message_id, group_messages)\u001B[0m\n\u001B[1;32m    141\u001B[0m \u001B[38;5;28;01mdef\u001B[39;00m \u001B[38;5;21msend\u001B[39m(\n\u001B[1;32m    142\u001B[0m     \u001B[38;5;28mself\u001B[39m,\n\u001B[1;32m    143\u001B[0m     to\u001B[38;5;241m=\u001B[39m\u001B[38;5;28;01mNone\u001B[39;00m,\n\u001B[0;32m   (...)\u001B[0m\n\u001B[1;32m    153\u001B[0m     group_messages\u001B[38;5;241m=\u001B[39m\u001B[38;5;28;01mTrue\u001B[39;00m,\n\u001B[1;32m    154\u001B[0m ):\n\u001B[1;32m    155\u001B[0m \u001B[38;5;250m    \u001B[39m\u001B[38;5;124;03m\"\"\" Use this to send an email with gmail\"\"\"\u001B[39;00m\n\u001B[0;32m--> 156\u001B[0m     \u001B[38;5;28;43mself\u001B[39;49m\u001B[38;5;241;43m.\u001B[39;49m\u001B[43mlogin\u001B[49m\u001B[43m(\u001B[49m\u001B[43m)\u001B[49m\n\u001B[1;32m    157\u001B[0m     recipients, msg_strings \u001B[38;5;241m=\u001B[39m \u001B[38;5;28mself\u001B[39m\u001B[38;5;241m.\u001B[39mprepare_send(\n\u001B[1;32m    158\u001B[0m         to,\n\u001B[1;32m    159\u001B[0m         subject,\n\u001B[0;32m   (...)\u001B[0m\n\u001B[1;32m    167\u001B[0m         group_messages,\n\u001B[1;32m    168\u001B[0m     )\n\u001B[1;32m    169\u001B[0m     \u001B[38;5;28;01mif\u001B[39;00m preview_only:\n",
      "File \u001B[0;32m~/.local/lib/python3.10/site-packages/yagmail/sender.py:210\u001B[0m, in \u001B[0;36mSMTP.login\u001B[0;34m(self)\u001B[0m\n\u001B[1;32m    208\u001B[0m     \u001B[38;5;28mself\u001B[39m\u001B[38;5;241m.\u001B[39m_login_oauth2(\u001B[38;5;28mself\u001B[39m\u001B[38;5;241m.\u001B[39mcredentials)\n\u001B[1;32m    209\u001B[0m \u001B[38;5;28;01melse\u001B[39;00m:\n\u001B[0;32m--> 210\u001B[0m     \u001B[38;5;28;43mself\u001B[39;49m\u001B[38;5;241;43m.\u001B[39;49m\u001B[43m_login\u001B[49m\u001B[43m(\u001B[49m\u001B[38;5;28;43mself\u001B[39;49m\u001B[38;5;241;43m.\u001B[39;49m\u001B[43mcredentials\u001B[49m\u001B[43m)\u001B[49m\n",
      "File \u001B[0;32m~/.local/lib/python3.10/site-packages/yagmail/sender.py:229\u001B[0m, in \u001B[0;36mSMTP._login\u001B[0;34m(self, password)\u001B[0m\n\u001B[1;32m    227\u001B[0m \u001B[38;5;28;01mif\u001B[39;00m \u001B[38;5;129;01mnot\u001B[39;00m \u001B[38;5;28mself\u001B[39m\u001B[38;5;241m.\u001B[39msmtp_skip_login:\n\u001B[1;32m    228\u001B[0m     password \u001B[38;5;241m=\u001B[39m \u001B[38;5;28mself\u001B[39m\u001B[38;5;241m.\u001B[39mhandle_password(\u001B[38;5;28mself\u001B[39m\u001B[38;5;241m.\u001B[39muser, password)\n\u001B[0;32m--> 229\u001B[0m     \u001B[38;5;28;43mself\u001B[39;49m\u001B[38;5;241;43m.\u001B[39;49m\u001B[43msmtp\u001B[49m\u001B[38;5;241;43m.\u001B[39;49m\u001B[43mlogin\u001B[49m\u001B[43m(\u001B[49m\u001B[38;5;28;43mself\u001B[39;49m\u001B[38;5;241;43m.\u001B[39;49m\u001B[43muser\u001B[49m\u001B[43m,\u001B[49m\u001B[43m \u001B[49m\u001B[43mpassword\u001B[49m\u001B[43m)\u001B[49m\n\u001B[1;32m    230\u001B[0m \u001B[38;5;28mself\u001B[39m\u001B[38;5;241m.\u001B[39mlog\u001B[38;5;241m.\u001B[39minfo(\u001B[38;5;124m\"\u001B[39m\u001B[38;5;124mConnected to SMTP @ \u001B[39m\u001B[38;5;132;01m%s\u001B[39;00m\u001B[38;5;124m:\u001B[39m\u001B[38;5;132;01m%s\u001B[39;00m\u001B[38;5;124m as \u001B[39m\u001B[38;5;132;01m%s\u001B[39;00m\u001B[38;5;124m\"\u001B[39m, \u001B[38;5;28mself\u001B[39m\u001B[38;5;241m.\u001B[39mhost, \u001B[38;5;28mself\u001B[39m\u001B[38;5;241m.\u001B[39mport, \u001B[38;5;28mself\u001B[39m\u001B[38;5;241m.\u001B[39muser)\n",
      "File \u001B[0;32m/usr/lib/python3.10/smtplib.py:750\u001B[0m, in \u001B[0;36mSMTP.login\u001B[0;34m(self, user, password, initial_response_ok)\u001B[0m\n\u001B[1;32m    747\u001B[0m         last_exception \u001B[38;5;241m=\u001B[39m e\n\u001B[1;32m    749\u001B[0m \u001B[38;5;66;03m# We could not login successfully.  Return result of last attempt.\u001B[39;00m\n\u001B[0;32m--> 750\u001B[0m \u001B[38;5;28;01mraise\u001B[39;00m last_exception\n",
      "File \u001B[0;32m/usr/lib/python3.10/smtplib.py:739\u001B[0m, in \u001B[0;36mSMTP.login\u001B[0;34m(self, user, password, initial_response_ok)\u001B[0m\n\u001B[1;32m    737\u001B[0m method_name \u001B[38;5;241m=\u001B[39m \u001B[38;5;124m'\u001B[39m\u001B[38;5;124mauth_\u001B[39m\u001B[38;5;124m'\u001B[39m \u001B[38;5;241m+\u001B[39m authmethod\u001B[38;5;241m.\u001B[39mlower()\u001B[38;5;241m.\u001B[39mreplace(\u001B[38;5;124m'\u001B[39m\u001B[38;5;124m-\u001B[39m\u001B[38;5;124m'\u001B[39m, \u001B[38;5;124m'\u001B[39m\u001B[38;5;124m_\u001B[39m\u001B[38;5;124m'\u001B[39m)\n\u001B[1;32m    738\u001B[0m \u001B[38;5;28;01mtry\u001B[39;00m:\n\u001B[0;32m--> 739\u001B[0m     (code, resp) \u001B[38;5;241m=\u001B[39m \u001B[38;5;28;43mself\u001B[39;49m\u001B[38;5;241;43m.\u001B[39;49m\u001B[43mauth\u001B[49m\u001B[43m(\u001B[49m\n\u001B[1;32m    740\u001B[0m \u001B[43m        \u001B[49m\u001B[43mauthmethod\u001B[49m\u001B[43m,\u001B[49m\u001B[43m \u001B[49m\u001B[38;5;28;43mgetattr\u001B[39;49m\u001B[43m(\u001B[49m\u001B[38;5;28;43mself\u001B[39;49m\u001B[43m,\u001B[49m\u001B[43m \u001B[49m\u001B[43mmethod_name\u001B[49m\u001B[43m)\u001B[49m\u001B[43m,\u001B[49m\n\u001B[1;32m    741\u001B[0m \u001B[43m        \u001B[49m\u001B[43minitial_response_ok\u001B[49m\u001B[38;5;241;43m=\u001B[39;49m\u001B[43minitial_response_ok\u001B[49m\u001B[43m)\u001B[49m\n\u001B[1;32m    742\u001B[0m     \u001B[38;5;66;03m# 235 == 'Authentication successful'\u001B[39;00m\n\u001B[1;32m    743\u001B[0m     \u001B[38;5;66;03m# 503 == 'Error: already authenticated'\u001B[39;00m\n\u001B[1;32m    744\u001B[0m     \u001B[38;5;28;01mif\u001B[39;00m code \u001B[38;5;129;01min\u001B[39;00m (\u001B[38;5;241m235\u001B[39m, \u001B[38;5;241m503\u001B[39m):\n",
      "File \u001B[0;32m/usr/lib/python3.10/smtplib.py:662\u001B[0m, in \u001B[0;36mSMTP.auth\u001B[0;34m(self, mechanism, authobject, initial_response_ok)\u001B[0m\n\u001B[1;32m    660\u001B[0m \u001B[38;5;28;01mif\u001B[39;00m code \u001B[38;5;129;01min\u001B[39;00m (\u001B[38;5;241m235\u001B[39m, \u001B[38;5;241m503\u001B[39m):\n\u001B[1;32m    661\u001B[0m     \u001B[38;5;28;01mreturn\u001B[39;00m (code, resp)\n\u001B[0;32m--> 662\u001B[0m \u001B[38;5;28;01mraise\u001B[39;00m SMTPAuthenticationError(code, resp)\n",
      "\u001B[0;31mSMTPAuthenticationError\u001B[0m: (535, b'5.7.8 Username and Password not accepted. For more information, go to\\n5.7.8  https://support.google.com/mail/?p=BadCredentials ffacd0b85a97d-38a8e4b80b2sm13930564f8f.80 - gsmtp')"
     ]
    }
   ],
   "execution_count": 17
  },
  {
   "metadata": {
    "ExecuteTime": {
     "end_time": "2025-01-14T08:20:05.551890Z",
     "start_time": "2025-01-14T08:20:03.037061Z"
    }
   },
   "cell_type": "code",
   "source": [
    "import smtplib\n",
    "from email.mime.text import MIMEText\n",
    "from email.mime.multipart import MIMEMultipart\n",
    "from typing import List\n",
    "import openai\n",
    "from dotenv import load_dotenv\n",
    "import os\n",
    "from openai import OpenAI\n",
    "\n",
    "load_dotenv()\n",
    "\n",
    "class DailySummary:\n",
    "    def __init__(self, sender_email: str, sender_password: str, smtp_server: str = \"smtp.gmail.com\", smtp_port: int = 587):\n",
    "        self.sender_email = sender_email\n",
    "        self.sender_password = sender_password\n",
    "        self.smtp_server = smtp_server\n",
    "        self.smtp_port = smtp_port\n",
    "        self.client = OpenAI(api_key=os.getenv(\"OPENAI_API_KEY\"))\n",
    "\n",
    "    def summarize(self, transcription: str, model: str = \"gpt-3.5-turbo\", max_tokens: int = 150) -> str:\n",
    "        \"\"\"\n",
    "        \"\"\"\n",
    "        try:\n",
    "            response = self.client.chat.completions.create(\n",
    "                model=model,\n",
    "                messages=[\n",
    "                    {\"role\": \"system\", \"content\": \"You are a helpful assistant.\"},\n",
    "                    {\"role\": \"user\", \"content\": f\"Summarize the following meeting transcription concisely:\\n\\n{transcription}\"}\n",
    "                ],\n",
    "                max_tokens=max_tokens,\n",
    "                temperature=0.5\n",
    "            )\n",
    "            summary = response.choices[0].message.content.strip()\n",
    "            return summary\n",
    "        except Exception as e:\n",
    "            print(f\"Error during summarization: {e}\")\n",
    "            return \"Error: Unable to generate summary.\"\n",
    "\n",
    "    def send_email(self, subject: str, body: str, to_emails: list) -> None:\n",
    "        \"\"\"\n",
    "        \"\"\"\n",
    "        try:\n",
    "            msg = MIMEMultipart()\n",
    "            msg['From'] = self.sender_email\n",
    "            msg['Subject'] = subject\n",
    "            msg.attach(MIMEText(body, 'plain'))\n",
    "\n",
    "            with smtplib.SMTP(self.smtp_server, self.smtp_port) as server:\n",
    "                server.starttls()\n",
    "                server.login(self.sender_email, self.sender_password)\n",
    "                for email in to_emails:\n",
    "                    msg['To'] = email\n",
    "                    server.sendmail(self.sender_email, email, msg.as_string())\n",
    "                    print(f\"Email sent to {email}\")\n",
    "        except Exception as e:\n",
    "            print(f\"Error sending email: {e}\")\n",
    "\n",
    "    def process_and_notify(self, transcription: str, to_emails: list, subject: str = \"Daily Summary\") -> None:\n",
    "        \"\"\"\n",
    "        \"\"\"\n",
    "        summary = self.summarize(transcription)\n",
    "        self.send_email(subject, summary, to_emails)\n",
    "\n",
    "if __name__ == \"__main__\":\n",
    "    sender_email = os.getenv(\"SENDER_EMAIL\")\n",
    "    sender_password = os.getenv(\"SENDER_PASSWORD\")\n",
    "    \n",
    "    transcription = \"This is a test transcription to summarize.\"\n",
    "    to_emails = [\"yosefmaatuf848@gmail.com\"]\n",
    "\n",
    "    summary_tool = DailySummary(sender_email, sender_password)\n",
    "    summary_tool.process_and_notify(transcription, to_emails)\n"
   ],
   "id": "82addc3037f9d9b6",
   "outputs": [
    {
     "name": "stdout",
     "output_type": "stream",
     "text": [
      "Email sent to yosefmaatuf848@gmail.com\n"
     ]
    }
   ],
   "execution_count": 2
  },
  {
   "metadata": {
    "ExecuteTime": {
     "end_time": "2025-01-14T08:07:43.680109Z",
     "start_time": "2025-01-14T08:07:43.674352Z"
    }
   },
   "cell_type": "code",
   "source": [
    "fromaddr = 'yosefmaatuf848@gmail.com'  # כתובת המייל שלך\n",
    "toaddrs = 'yosefmaatuf848@gmail.com'  # כתובת המייל של הנמען\n",
    "username = 'yosefmaatuf848@gmail.com'  # שם המשתמש שלך (כתובת המייל המלאה)\n",
    "sender_password = 'scqm mkpx tktz yswv'"
   ],
   "id": "a174dad55f47b2a4",
   "outputs": [],
   "execution_count": 23
  },
  {
   "metadata": {
    "ExecuteTime": {
     "end_time": "2025-01-14T08:07:46.796425Z",
     "start_time": "2025-01-14T08:07:44.047938Z"
    }
   },
   "cell_type": "code",
   "source": [
    "transcription = \"\"\"\n",
    "Yesterday we discussed the progress of the AI project. Tasks were assigned to team members, \n",
    "and the deadline for the next milestone is set for next Friday. John is responsible for data collection, \n",
    "while Sarah will focus on model optimization.\n",
    "\"\"\"\n",
    "\n",
    "# יצירת אובייקט ושימוש\n",
    "daily_summary = DailySummary( sender_email, sender_password)\n",
    "daily_summary.process_and_notify(transcription, to_emails)"
   ],
   "id": "9ce6ba56d6d31851",
   "outputs": [
    {
     "name": "stdout",
     "output_type": "stream",
     "text": [
      "Error during summarization: \n",
      "\n",
      "You tried to access openai.ChatCompletion, but this is no longer supported in openai>=1.0.0 - see the README at https://github.com/openai/openai-python for the API.\n",
      "\n",
      "You can run `openai migrate` to automatically upgrade your codebase to use the 1.0.0 interface. \n",
      "\n",
      "Alternatively, you can pin your installation to the old version, e.g. `pip install openai==0.28`\n",
      "\n",
      "A detailed migration guide is available here: https://github.com/openai/openai-python/discussions/742\n",
      "\n",
      "Email sent to yosefmaatuf848@gmail.com\n",
      "Error sending email: (550, b'5.7.1 This message is not RFC 5322 compliant. There are multiple To headers.\\n5.7.1 To reduce the amount of spam sent to Gmail, this message has been\\n5.7.1 blocked. For more information, go to\\n5.7.1  https://support.google.com/mail/?p=RfcMessageNonCompliant and review\\n5.7.1 RFC 5322 specifications. 5b1f17b1804b1-436e9e37d69sm166086675e9.30 - gsmtp')\n"
     ]
    }
   ],
   "execution_count": 24
  },
  {
   "metadata": {},
   "cell_type": "code",
   "outputs": [],
   "execution_count": null,
   "source": "",
   "id": "5149f1fed9633367"
  }
 ],
 "metadata": {
  "kernelspec": {
   "display_name": "Python 3",
   "language": "python",
   "name": "python3"
  },
  "language_info": {
   "codemirror_mode": {
    "name": "ipython",
    "version": 2
   },
   "file_extension": ".py",
   "mimetype": "text/x-python",
   "name": "python",
   "nbconvert_exporter": "python",
   "pygments_lexer": "ipython2",
   "version": "2.7.6"
  }
 },
 "nbformat": 4,
 "nbformat_minor": 5
}
